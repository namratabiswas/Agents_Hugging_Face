{
  "nbformat": 4,
  "nbformat_minor": 0,
  "metadata": {
    "colab": {
      "provenance": [],
      "authorship_tag": "ABX9TyPLbaiGdQwZvLhffXqTXTro",
      "include_colab_link": true
    },
    "kernelspec": {
      "name": "python3",
      "display_name": "Python 3"
    },
    "language_info": {
      "name": "python"
    }
  },
  "cells": [
    {
      "cell_type": "markdown",
      "metadata": {
        "id": "view-in-github",
        "colab_type": "text"
      },
      "source": [
        "<a href=\"https://colab.research.google.com/github/namratabiswas/Agents_Hugging_Face/blob/main/LangGraph_email_classification.ipynb\" target=\"_parent\"><img src=\"https://colab.research.google.com/assets/colab-badge.svg\" alt=\"Open In Colab\"/></a>"
      ]
    },
    {
      "cell_type": "code",
      "execution_count": null,
      "metadata": {
        "collapsed": true,
        "id": "7w3rmR5v2T2P"
      },
      "outputs": [],
      "source": [
        "%pip install langgraph langchain_openai"
      ]
    },
    {
      "cell_type": "markdown",
      "source": [
        "In this notebook we will have my agent James halp me classify emails into SPAM or NOT SPAM categories. If they are SPAM he puts them away in the spam folder. If they are NOT SPAM, he will draft a email for my review.\n",
        "\n",
        "We’ll implement our helper/agent - named James, email processing system, where he needs to:\n",
        "\n",
        "1. Read incoming emails\n",
        "2. Classify them as spam or legitimate\n",
        "3. Draft a preliminary response for legitimate emails\n",
        "4. Send information to me when legitimate (printing only)"
      ],
      "metadata": {
        "id": "Io2toBMW2nYx"
      }
    },
    {
      "cell_type": "code",
      "source": [
        "# Set the OpenAI API Key environment variable\n",
        "#%env OPENAI_API_KEY=\"\"\n",
        "import os\n",
        "os.environ[\"OPENAI_API_KEY\"] = \"\"  # <-- your actual key here\n",
        "print(f\"OPENAI_API_KEY is set: {os.environ.get('OPENAI_API_KEY') is not None}\")"
      ],
      "metadata": {
        "id": "B7oJmG8bBPy_"
      },
      "execution_count": null,
      "outputs": []
    },
    {
      "cell_type": "code",
      "source": [
        "#Import necessary libraries\n",
        "import os\n",
        "from typing import TypedDict, List, Dict, Any, Optional\n",
        "from langgraph.graph import StateGraph, START, END\n",
        "from langchain_openai import ChatOpenAI\n",
        "from langchain_core.messages import HumanMessage"
      ],
      "metadata": {
        "id": "sMRWybVb20Ig"
      },
      "execution_count": null,
      "outputs": []
    },
    {
      "cell_type": "markdown",
      "source": [
        "**Step 1:** Define Our State\n",
        "\n",
        "  Let’s define what information James needs to track during the email processing workflow:"
      ],
      "metadata": {
        "id": "AxGmPD653Cr7"
      }
    },
    {
      "cell_type": "code",
      "source": [
        "class EmailState(TypedDict):\n",
        "    # The email being processed\n",
        "    email: Dict[str, Any]  # Contains subject, sender, body, etc.\n",
        "\n",
        "    # Category of the email (inquiry, complaint, etc.)\n",
        "    email_category: Optional[str]\n",
        "\n",
        "    # Reason why the email was marked as spam\n",
        "    spam_reason: Optional[str]\n",
        "\n",
        "    # Analysis and decisions\n",
        "    is_spam: Optional[bool]\n",
        "\n",
        "    # Response generation\n",
        "    email_draft: Optional[str]\n",
        "\n",
        "    # Processing metadata\n",
        "    messages: List[Dict[str, Any]]  # Track conversation with LLM for analysis"
      ],
      "metadata": {
        "id": "PU1zbC-R3Xj9"
      },
      "execution_count": null,
      "outputs": []
    },
    {
      "cell_type": "markdown",
      "source": [
        "**Step 2:** Define Our Nodes\n",
        "\n",
        "Now, let’s create the processing functions that will form our nodes:\n",
        "  "
      ],
      "metadata": {
        "id": "cLsf6euy3cpB"
      }
    },
    {
      "cell_type": "code",
      "source": [
        "# Initialize our LLM\n",
        "model = ChatOpenAI(temperature=0)\n",
        "\n",
        "def read_email(state: EmailState):\n",
        "    \"\"\"James reads and logs the incoming email\"\"\"\n",
        "    email = state[\"email\"]\n",
        "\n",
        "    # Here we might do some initial preprocessing\n",
        "    print(f\"James is processing an email from {email['sender']} with subject: {email['subject']}\")\n",
        "\n",
        "    # No state changes needed here\n",
        "    return {}\n",
        "\n",
        "def classify_email(state: EmailState):\n",
        "    \"\"\"James uses an LLM to determine if the email is spam or legitimate\"\"\"\n",
        "    email = state[\"email\"]\n",
        "\n",
        "    # Prepare our prompt for the LLM\n",
        "    prompt = f\"\"\"\n",
        "    As James, analyze this email and determine if it is spam or legitimate.\n",
        "\n",
        "    Email:\n",
        "    From: {email['sender']}\n",
        "    Subject: {email['subject']}\n",
        "    Body: {email['body']}\n",
        "\n",
        "    First, determine if this email is spam. If it is spam, explain why.\n",
        "    If it is legitimate, categorize it (inquiry, complaint, thank you, etc.).\n",
        "    \"\"\"\n",
        "\n",
        "    # Call the LLM\n",
        "    messages = [HumanMessage(content=prompt)]\n",
        "    response = model.invoke(messages)\n",
        "\n",
        "    # Simple logic to parse the response\n",
        "    response_text = response.content.lower()\n",
        "    is_spam = \"spam\" in response_text and \"not spam\" not in response_text\n",
        "\n",
        "    # Extract a reason if it's spam\n",
        "    spam_reason = None\n",
        "    if is_spam and \"reason:\" in response_text:\n",
        "        spam_reason = response_text.split(\"reason:\")[1].strip()\n",
        "\n",
        "    # Determine category if legitimate\n",
        "    email_category = None\n",
        "    if not is_spam:\n",
        "        categories = [\"inquiry\", \"complaint\", \"thank you\", \"request\", \"information\"]\n",
        "        for category in categories:\n",
        "            if category in response_text:\n",
        "                email_category = category\n",
        "                break\n",
        "\n",
        "    # Update messages for tracking\n",
        "    new_messages = state.get(\"messages\", []) + [\n",
        "        {\"role\": \"user\", \"content\": prompt},\n",
        "        {\"role\": \"assistant\", \"content\": response.content}\n",
        "    ]\n",
        "\n",
        "    # Return state updates\n",
        "    return {\n",
        "        \"is_spam\": is_spam,\n",
        "        \"spam_reason\": spam_reason,\n",
        "        \"email_category\": email_category,\n",
        "        \"messages\": new_messages\n",
        "    }\n",
        "\n",
        "def handle_spam(state: EmailState):\n",
        "    \"\"\"James discards spam email with a note\"\"\"\n",
        "    print(f\"James has marked the email as spam. Reason: {state['spam_reason']}\")\n",
        "    print(\"The email has been moved to the spam folder.\")\n",
        "\n",
        "    # We're done processing this email\n",
        "    return {}\n",
        "\n",
        "def draft_response(state: EmailState):\n",
        "    \"\"\"James drafts a preliminary response for legitimate emails\"\"\"\n",
        "    email = state[\"email\"]\n",
        "    category = state[\"email_category\"] or \"general\"\n",
        "\n",
        "    # Prepare our prompt for the LLM\n",
        "    prompt = f\"\"\"\n",
        "    As James the butler, draft a polite preliminary response to this email.\n",
        "\n",
        "    Email:\n",
        "    From: {email['sender']}\n",
        "    Subject: {email['subject']}\n",
        "    Body: {email['body']}\n",
        "\n",
        "    This email has been categorized as: {category}\n",
        "\n",
        "    Draft a brief, professional response that Ms Namrata. can review and personalize before sending.\n",
        "    \"\"\"\n",
        "\n",
        "    # Call the LLM\n",
        "    messages = [HumanMessage(content=prompt)]\n",
        "    response = model.invoke(messages)\n",
        "\n",
        "    # Update messages for tracking\n",
        "    new_messages = state.get(\"messages\", []) + [\n",
        "        {\"role\": \"user\", \"content\": prompt},\n",
        "        {\"role\": \"assistant\", \"content\": response.content}\n",
        "    ]\n",
        "\n",
        "    # Return state updates\n",
        "    return {\n",
        "        \"email_draft\": response.content,\n",
        "        \"messages\": new_messages\n",
        "    }\n",
        "\n",
        "def notify_mr_hugg(state: EmailState):\n",
        "    \"\"\"James notifies Ms Namrata(me) about the email and presents the draft response\"\"\"\n",
        "    email = state[\"email\"]\n",
        "\n",
        "    print(\"\\n\" + \"=\"*50)\n",
        "    print(f\"Mam, you've received an email from {email['sender']}.\")\n",
        "    print(f\"Subject: {email['subject']}\")\n",
        "    print(f\"Category: {state['email_category']}\")\n",
        "    print(\"\\nI've prepared a draft response for your review:\")\n",
        "    print(\"-\"*50)\n",
        "    print(state[\"email_draft\"])\n",
        "    print(\"=\"*50 + \"\\n\")\n",
        "\n",
        "    # We're done processing this email\n",
        "    return {}"
      ],
      "metadata": {
        "id": "Drfm4AbK69tt"
      },
      "execution_count": null,
      "outputs": []
    },
    {
      "cell_type": "markdown",
      "source": [
        "**Step 3:** Define Our Routing Logic\n",
        "\n",
        "We need a function to determine which path to take after classification:"
      ],
      "metadata": {
        "id": "RzA4M1edCXsX"
      }
    },
    {
      "cell_type": "code",
      "source": [
        "def route_email(state: EmailState) -> str:\n",
        "    \"\"\"Determine the next step based on spam classification\"\"\"\n",
        "    if state[\"is_spam\"]:\n",
        "        return \"spam\"\n",
        "    else:\n",
        "        return \"legitimate\""
      ],
      "metadata": {
        "id": "nBId1zxmCayi"
      },
      "execution_count": null,
      "outputs": []
    },
    {
      "cell_type": "markdown",
      "source": [
        "**Step 4:** Create the StateGraph and Define Edges\n",
        "Now we connect everything together:"
      ],
      "metadata": {
        "id": "3OEBCjUV_bhb"
      }
    },
    {
      "cell_type": "code",
      "source": [
        "# Create the graph\n",
        "email_graph = StateGraph(EmailState)\n",
        "\n",
        "# Add nodes\n",
        "email_graph.add_node(\"read_email\", read_email)\n",
        "email_graph.add_node(\"classify_email\", classify_email)\n",
        "email_graph.add_node(\"handle_spam\", handle_spam)\n",
        "email_graph.add_node(\"draft_response\", draft_response)\n",
        "email_graph.add_node(\"notify_ms_namrata\", notify_ms_namrata)\n",
        "\n",
        "# Start the edges\n",
        "email_graph.add_edge(START, \"read_email\")\n",
        "# Add edges - defining the flow\n",
        "email_graph.add_edge(\"read_email\", \"classify_email\")\n",
        "\n",
        "# Add conditional branching from classify_email\n",
        "email_graph.add_conditional_edges(\n",
        "    \"classify_email\",\n",
        "    route_email,\n",
        "    {\n",
        "        \"spam\": \"handle_spam\",\n",
        "        \"legitimate\": \"draft_response\"\n",
        "    }\n",
        ")\n",
        "\n",
        "# Add the final edges\n",
        "email_graph.add_edge(\"handle_spam\", END)\n",
        "email_graph.add_edge(\"draft_response\", \"notify_ms_namrata\")\n",
        "email_graph.add_edge(\"notify_ms_namrata\", END)\n",
        "\n",
        "# Compile the graph\n",
        "compiled_graph = email_graph.compile()"
      ],
      "metadata": {
        "id": "W0nqgbmy_nbv"
      },
      "execution_count": null,
      "outputs": []
    },
    {
      "cell_type": "markdown",
      "source": [
        "Step 5: Run the Application"
      ],
      "metadata": {
        "id": "SHdOqm0fANYp"
      }
    },
    {
      "cell_type": "markdown",
      "source": [
        "Let’s test our graph with a legitimate email and a spam email:"
      ],
      "metadata": {
        "id": "O5Fze0TtAOiN"
      }
    },
    {
      "cell_type": "code",
      "source": [
        " # Example emails for testing\n",
        "legitimate_email = {\n",
        "    \"sender\": \"Joker\",\n",
        "    \"subject\": \"Found you Batgirl ! \",\n",
        "    \"body\": \"Ms. Namrata,I found your secret identity ! I know you're batgirl ! Ther's no denying it, I have proof of that and I'm coming to find you soon. I'll get my revenge. JOKER\"\n",
        "}\n",
        "\n",
        "spam_email = {\n",
        "    \"sender\": \"Crypto bro\",\n",
        "    \"subject\": \"The best investment of 2025\",\n",
        "    \"body\": \"Ms Namrata, I just launched an ALT coin and want you to buy some !\"\n",
        "}\n",
        "# Process legitimate email\n",
        "print(\"\\nProcessing legitimate email...\")\n",
        "legitimate_result = compiled_graph.invoke({\n",
        "    \"email\": legitimate_email,\n",
        "    \"is_spam\": None,\n",
        "    \"spam_reason\": None,\n",
        "    \"email_category\": None,\n",
        "    \"email_draft\": None,\n",
        "    \"messages\": []\n",
        "})\n",
        "\n",
        "# Process spam email\n",
        "print(\"\\nProcessing spam email...\")\n",
        "spam_result = compiled_graph.invoke({\n",
        "    \"email\": spam_email,\n",
        "    \"is_spam\": None,\n",
        "    \"spam_reason\": None,\n",
        "    \"email_category\": None,\n",
        "    \"email_draft\": None,\n",
        "    \"messages\": []\n",
        "})"
      ],
      "metadata": {
        "id": "mvOSqwG6ASD8",
        "collapsed": true
      },
      "execution_count": null,
      "outputs": []
    },
    {
      "cell_type": "markdown",
      "source": [
        " The output to the above:\n",
        "\n",
        "Processing legitimate email...\n",
        "James is processing an email from Joker with subject: Found you Batgirl !\n",
        "\n",
        "\n",
        "==================================================\n",
        "\n",
        "Mam, you've received an email from Joker.\n",
        "Subject: Found you Batgirl !\n",
        "\n",
        "\n",
        "I've prepared a draft response for your review:\n",
        "\n",
        "--------------------------------------------------\n",
        "Subject: Re: Found you Batgirl!\n",
        "\n",
        "Dear Mr. Joker,\n",
        "\n",
        "Thank you for reaching out. Your message has been received and noted. Mr. Wayne is currently unavailable, but rest assured, your concerns will be addressed in due course.\n",
        "ham\n",
        "Kind regards,\n",
        "\n",
        "James\n",
        "\n",
        "Personal Assistant to Ms.Namrata\n",
        "\n",
        "\n",
        "==================================================\n",
        "\n",
        "\n",
        "Processing spam email...\n",
        "James is processing an email from Crypto bro with subject: The best investment of 2025\n",
        "spam\n",
        "James has marked the email as spam.\n",
        "The email has been moved to the spam folder."
      ],
      "metadata": {
        "id": "DjA2HKO4fHxQ"
      }
    }
  ]
}